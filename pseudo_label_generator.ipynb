{
 "cells": [
  {
   "cell_type": "code",
   "execution_count": 6,
   "id": "ce825e84-3bc6-4810-82fc-2eae008e2e72",
   "metadata": {},
   "outputs": [],
   "source": [
    "from ML_Dataset_Model import *\n",
    "from ML_Functions import *\n",
    "from Ariel_Functions import *\n",
    "import matplotlib.pyplot as plt\n",
    "import numpy as np\n",
    "import pandas as pd\n",
    "from scipy.optimize import leastsq\n",
    "import h5py \n",
    "# import os\n",
    "from tqdm.notebook import tqdm\n",
    "from time import time\n",
    "import scipy\n",
    "import torch\n",
    "from torch import nn\n",
    "from torch.utils.data import DataLoader\n",
    "torch.set_default_dtype(torch.float64)"
   ]
  },
  {
   "cell_type": "code",
   "execution_count": 7,
   "id": "232b9757-1097-48d7-a52d-fd6fe65fae12",
   "metadata": {},
   "outputs": [],
   "source": [
    "heads = ['planet_radius' ,\t'planet_temp', \t'log_H2O', \t'log_CO2', \t'log_CO' ,\t'log_CH4' \t,'log_NH3']\n",
    "aux_heads = ['star_distance','star_mass_kg','star_radius_m','star_temperature','planet_mass_kg','planet_orbital_period','planet_distance','planet_surface_gravity']"
   ]
  },
  {
   "cell_type": "code",
   "execution_count": 8,
   "id": "f776149b-b288-495b-a87f-5c1f97843d3d",
   "metadata": {},
   "outputs": [],
   "source": [
    "# Loads the data using numpy files from path, comment this cell and uncomment the previous cell to use the training data in the original\n",
    "# format, assuming AuxillaryTable,QuartilesTable, SpectralData are all in a folder named TrainingData\n",
    "\n",
    "# Loads the data using numpy files from path, comment this cell and uncomment the previous cell to use the training data in the original\n",
    "# format, assuming AuxillaryTable,QuartilesTable, SpectralData are all in a folder named TrainingData\n",
    "\n",
    "R_j = 71492*1e3\n",
    "data = torch.load('tr_data.pt')\n",
    "quart_tr = torch.Tensor(data['Quart_tr'])\n",
    "safe = ~torch.isnan(quart_tr[:,0,0])\n",
    "quart_tr = quart_tr[safe] # Only some of them have retrievals\n",
    "\n",
    "spec = torch.Tensor(data['Spectra'])[safe]\n",
    "noise = torch.Tensor(data['Noise'])[safe]\n",
    "aux = torch.Tensor(data['Aux'])[safe]\n",
    "fm = torch.Tensor(data['FM'])[safe]\n",
    "param = torch.load('params_fixed.pt')\n",
    "torch.manual_seed(0)\n",
    "R_j = 71492*1e3\n",
    "ind= torch.rand(safe.sum())<1.1\n",
    "param_RpT = torch.load('params_RpT.pt')\n",
    "\n",
    "\n"
   ]
  },
  {
   "cell_type": "markdown",
   "id": "de14371d-df5a-47b2-9130-5be5aea5b78d",
   "metadata": {
    "tags": []
   },
   "source": [
    "# # # Rp and T prediction Part, Currently Utilized "
   ]
  },
  {
   "cell_type": "code",
   "execution_count": 9,
   "id": "39e7cd98-f306-4218-a0fd-83ab20dfe4cf",
   "metadata": {},
   "outputs": [],
   "source": [
    "\n",
    "def preprocessor_RpT(spec,aux,noise,ind=None,std_mn=None):\n",
    "\n",
    "    # Modifying outliers\n",
    "    for i in range(spec.shape[0]):\n",
    "        \n",
    "        spec[i,spec[i,:]>0.1] = (spec[i,spec[i,:]<0.1]/noise[i,spec[i,:]<0.1]).mean()*noise[i,spec[i,:]>0.1]\n",
    "    R_j = 71492*1e3\n",
    "    Rpj = torch.sqrt(spec.min(axis=1).values*aux[:,2]**2/R_j**2)\n",
    "    Rp = Rpj.clone()*R_j\n",
    "    \n",
    "    # Calculate R_p/R_s for the next steps\n",
    "    temp = ((Rp/aux[:,2]))[:,None]\n",
    "    \n",
    "    # Calculating the effective temperature and the scale height\n",
    "    T = aux[:,3]*(1/2*aux[:,2]/(aux[:,6]*149597870.7*1000))**(1/2)\n",
    "    H = 1.380649* T / (2.29*1.66054e-4*aux[:,7])\n",
    "    \n",
    "    # Getting rid of the bulk planet contribution\n",
    "    spec_ = spec.clone()\n",
    "    spec = (spec - temp**2)\n",
    "    \n",
    "    # Concatenate three unitless features to the auxillary data\n",
    "    aux = torch.cat((aux,Rp[:,None],(Rp/aux[:,2])[:,None],fm,\n",
    "                        (aux[:,6]/H)[:,None],spec.max(axis=1).values[:,None] ,aux[:,2][:,None]/H[:,None]  ),axis=1) # *\n",
    "\n",
    "    # Normalization of noise and spectra\n",
    "    noise = noise/spec.max(axis=1).values[:,None]\n",
    "    spec = spec/spec.max(axis=1).values[:,None]\n",
    "    spec = torch.cat([spec,spec_],axis=1)\n",
    "    # Calculate std and mean for the auxillary data if it is the training phase\n",
    "    if std_mn is None:\n",
    "        aux_std,aux_mn = aux[ind].std(axis=0),aux[ind].mean(axis=0)\n",
    "        std_mn = [aux_std,aux_mn]\n",
    "    \n",
    "    else:\n",
    "        aux_std,aux_mn = std_mn\n",
    "       \n",
    "    # Standardize the auxillary data\n",
    "    aux = standardize(aux,aux_mn,aux_std) \n",
    "    \n",
    "    return spec,aux,noise,Rpj,T,std_mn\n",
    "\n",
    "class RpT_ML(nn.Module):\n",
    "    def __init__(self,alpha,Dropout=0):\n",
    "        super(RpT_ML, self).__init__()\n",
    "        activation = nn.LeakyReLU\n",
    "        self.main_layer=construct_FNN([192,192,192,64,len(alpha[0])],activation=activation,output_activation=nn.Sigmoid,Dropout=Dropout)\n",
    "        self.alpha=alpha\n",
    "    def forward(self, input1, input2,input3): #input1:spectra, input2: auxxilary, input3:noise\n",
    "\n",
    "\n",
    "        # return self.main_layer(torch.cat((input3,input2,input1),axis=1 ) ).reshape(input1.shape[0],*self.std.shape[1:])*self.std+self.mn\n",
    "        return  self.main_layer(torch.cat((input3,input2,input1),axis=1 ) ).reshape(input1.shape[0],len(self.alpha[0]))*self.alpha[1]+self.alpha[0]\n"
   ]
  },
  {
   "cell_type": "code",
   "execution_count": 10,
   "id": "b33997fd-e98b-4a04-87e5-f3f5e93693e7",
   "metadata": {},
   "outputs": [],
   "source": [
    "spec_tr,aux_tr,noise_tr,Rp,T,std_mn_RpT = preprocessor_RpT(spec,aux,noise,ind=ind)\n",
    "aux_std,aux_mn = std_mn_RpT\n",
    "param_tr = torch.cat([quart_tr[:,1,:2],param_RpT[:,:2]],axis=1).clone()\n",
    "\n",
    "\n",
    "param_mn,param_std = param_tr[ind].mean(axis=0)[None],param_tr[ind].std(axis=0)[None]\n"
   ]
  },
  {
   "cell_type": "code",
   "execution_count": 11,
   "id": "6c7206bd-4acf-41d0-9ebd-df971b962a87",
   "metadata": {},
   "outputs": [],
   "source": [
    "train_data = Combined_Quart_Dataset(spectra=spec_tr[ind],aux=aux_tr[ind],quart=param_tr[ind],noise=noise_tr[ind])\n",
    "train_loader = DataLoader(train_data, batch_size=64,\n",
    "                        shuffle=True, num_workers=0)\n",
    "\n",
    "if not(ind.all()):\n",
    "    test_data = Combined_Quart_Dataset(spectra=spec_tr[~ind],aux=aux_tr[~ind],quart=param_tr[~ind],noise=noise_tr[~ind])\n",
    "\n",
    "else:\n",
    "    test_data=train_data\n",
    "    \n",
    "test_loader = DataLoader(test_data, batch_size=len(test_data),\n",
    "                        shuffle=True, num_workers=0)\n"
   ]
  },
  {
   "cell_type": "code",
   "execution_count": 12,
   "id": "b3efa227-89b0-4c0b-bf2a-48e4d92866d7",
   "metadata": {},
   "outputs": [],
   "source": [
    "def solve_quadratic(params):\n",
    "    return torch.where( params[:,[0]].abs()>0,torch.stack([\n",
    "        (-params[:,1]+(params[:,1]**2-4*params[:,2]*params[:,0]).sqrt())/(2*params[:,0]),\n",
    "        (-params[:,1]-(params[:,1]**2-4*params[:,2]*params[:,0]).sqrt())/(2*params[:,0])],axis=1),\n",
    "                       (-params[:,2]/params[:,1])[:,None].broadcast_to(params.shape[0],2))\n",
    "\n",
    "def find_max_x(y,yhat):\n",
    "    m1,std1=torch.split(y,[1,1],dim=1)\n",
    "    m2,std2=torch.split(yhat,[1,1],dim=1)\n",
    "    a=(1/std2**2-1/std1**2)\n",
    "    b=2*(m1/std1**2-m2/std2**2)\n",
    "    c=2*torch.log(std2/std1)+(m2**2/std2**2-m1**2/std1**2)\n",
    "\n",
    "    x = solve_quadratic(torch.cat([a,b,c],dim=1))\n",
    "    return (1-(torch.erf( (x-m1)/(std1*1.414) )-torch.erf( (x-m2)/std2*1/1.414 )).abs().max(axis=1).values*1/2)\n",
    "    "
   ]
  },
  {
   "cell_type": "code",
   "execution_count": 13,
   "id": "4f3751ed-e91f-4a96-a318-0dd900c7866d",
   "metadata": {},
   "outputs": [
    {
     "data": {
      "text/plain": [
       "tensor([2.2607e+00, 5.1475e+03, 7.7416e-03, 2.1927e+02])"
      ]
     },
     "execution_count": 13,
     "metadata": {},
     "output_type": "execute_result"
    }
   ],
   "source": [
    "param_tr.max(axis=0).values"
   ]
  },
  {
   "cell_type": "code",
   "execution_count": 14,
   "id": "40445f28-3496-432f-88b0-44fe6e9c3d65",
   "metadata": {},
   "outputs": [
    {
     "data": {
      "text/plain": [
       "tensor([1.3317e-01, 1.0758e+02, 2.5972e-06, 1.7071e-01])"
      ]
     },
     "execution_count": 14,
     "metadata": {},
     "output_type": "execute_result"
    }
   ],
   "source": [
    "param_tr.min(axis=0).values"
   ]
  },
  {
   "cell_type": "code",
   "execution_count": 15,
   "id": "8550505b-6d69-41c8-a91b-6dacb4ad76e4",
   "metadata": {},
   "outputs": [
    {
     "name": "stderr",
     "output_type": "stream",
     "text": [
      "/home/e_/anaconda3/lib/python3.9/site-packages/torch/nn/modules/lazy.py:180: UserWarning: Lazy modules are a new feature under heavy development so changes to the API or functionality can happen at any moment.\n",
      "  warnings.warn('Lazy modules are a new feature under heavy development '\n"
     ]
    }
   ],
   "source": [
    "torch.manual_seed(0)\n",
    "alpha=[torch.tensor([0.001,100,0.00001,0.0001]),torch.tensor([2.5,6000,0.1,300])]\n",
    "# alpha=[torch.tensor([0.001,100,-5,-2]),torch.tensor([2.5,6000,-8,8])]\n",
    "\n",
    "model_RpT = RpT_ML(alpha,Dropout=.0)\n",
    "# model_RpT = RpT_ML(0,torch.ones(1,3),Dropout=.1)"
   ]
  },
  {
   "cell_type": "code",
   "execution_count": 16,
   "id": "181940fd-5d6f-4881-bd40-019c080cdc2c",
   "metadata": {},
   "outputs": [
    {
     "data": {
      "text/plain": [
       "tensor([1.0000e-03, 1.0000e+02, 1.0000e-05, 1.0000e-04])"
      ]
     },
     "execution_count": 16,
     "metadata": {},
     "output_type": "execute_result"
    }
   ],
   "source": [
    "torch.zeros(4)*alpha[1]+alpha[0]"
   ]
  },
  {
   "cell_type": "code",
   "execution_count": 17,
   "id": "eb707667-6aed-4ac1-840e-34ed73a40846",
   "metadata": {},
   "outputs": [
    {
     "data": {
      "text/plain": [
       "tensor([2.5010e+00, 6.1000e+03, 1.0001e-01, 3.0000e+02])"
      ]
     },
     "execution_count": 17,
     "metadata": {},
     "output_type": "execute_result"
    }
   ],
   "source": [
    "torch.ones(4)*alpha[1]+alpha[0]"
   ]
  },
  {
   "cell_type": "code",
   "execution_count": 18,
   "id": "2a60a8ad-9622-4cdf-b897-5e77fab463c2",
   "metadata": {
    "tags": []
   },
   "outputs": [
    {
     "data": {
      "application/vnd.jupyter.widget-view+json": {
       "model_id": "01af6b25bb464906ad429c51c0644e73",
       "version_major": 2,
       "version_minor": 0
      },
      "text/plain": [
       "  0%|          | 0/20 [00:00<?, ?it/s]"
      ]
     },
     "metadata": {},
     "output_type": "display_data"
    },
    {
     "data": {
      "application/vnd.jupyter.widget-view+json": {
       "model_id": "151f25221c404eb7935606102470cd47",
       "version_major": 2,
       "version_minor": 0
      },
      "text/plain": [
       "  0%|          | 0/20 [00:00<?, ?it/s]"
      ]
     },
     "metadata": {},
     "output_type": "display_data"
    },
    {
     "data": {
      "application/vnd.jupyter.widget-view+json": {
       "model_id": "80ea6fd5b7f542d5a030715621e4066a",
       "version_major": 2,
       "version_minor": 0
      },
      "text/plain": [
       "  0%|          | 0/30 [00:00<?, ?it/s]"
      ]
     },
     "metadata": {},
     "output_type": "display_data"
    },
    {
     "name": "stdout",
     "output_type": "stream",
     "text": [
      "Time total: 113.50 sec, Best Val. Loss:0.141713149439482\n"
     ]
    }
   ],
   "source": [
    "scale = torch.tensor([2.5,6000,0.1,300])\n",
    "\n",
    "# def loss_fn(y,yhat):\n",
    "#     return ((y[:,:2]-yhat[:,:2])**2+(yhat[:,2:4]-yhat[:,2:4])**2).sqrt()/scale[None,:2]\n",
    "\n",
    "# def loss_fn(y,yhat):\n",
    "#     return 1-(find_max_x(y[:,[0,2]],torch.stack([yhat[:,0],torch.exp(yhat[:,2])],dim=-1))+\n",
    "#               find_max_x(y[:,[1,3]],yhat[:,[1,3]]))/2\n",
    "\n",
    "def loss_fn(y,yhat):\n",
    "    return 1-find_max_x(y[:,[1,3]],yhat[:,[1,3]])\n",
    "\n",
    "# def loss_fn(y,yhat):\n",
    "#     return 1-(find_max_x(y[:,[1,3]],torch.stack([yhat[:,1],torch.exp(yhat[:,3])],dim=-1)))\n",
    "            \n",
    "epochs=np.array([20,20,30])\n",
    "# lrs=np.array([5e-3,2.5e-3,8e-4])\n",
    "lrs=np.array([5e-4,2.5e-4,1e-4])\n",
    "\n",
    "params={'model':model_RpT ,\n",
    "      'loss_fn':loss_fn,\n",
    "      'train_dl':train_loader,\n",
    "      'val_dl':test_loader,\n",
    "      'device':'cpu', 'optimizer':torch.optim.Adam(model_RpT.parameters(),5e-3),'lrs':lrs,'epochs':epochs}\n",
    "\n",
    "a=train(**params)"
   ]
  },
  {
   "cell_type": "code",
   "execution_count": 19,
   "id": "f3ea1888-b3dd-482c-b04a-1bf48c90dd6c",
   "metadata": {},
   "outputs": [
    {
     "data": {
      "text/plain": [
       "<matplotlib.legend.Legend at 0x7f9fb2ae8340>"
      ]
     },
     "execution_count": 19,
     "metadata": {},
     "output_type": "execute_result"
    },
    {
     "data": {
      "image/png": "[encoded data removed]",
      "text/plain": [
       "<Figure size 640x480 with 1 Axes>"
      ]
     },
     "metadata": {},
     "output_type": "display_data"
    }
   ],
   "source": [
    "model_RpT.eval()\n",
    "plt.plot(a['history']['val_loss'],label='val loss')\n",
    "plt.plot(a['history']['loss'],label='loss')\n",
    "plt.legend()"
   ]
  },
  {
   "cell_type": "markdown",
   "id": "92a8cf8e-edd8-41df-845b-db8a0f985977",
   "metadata": {
    "jp-MarkdownHeadingCollapsed": true,
    "tags": []
   },
   "source": [
    "# Regular Stuff"
   ]
  },
  {
   "cell_type": "code",
   "execution_count": 21,
   "id": "7de50c0a-0ec9-48cf-8458-0e9abfce8e70",
   "metadata": {},
   "outputs": [],
   "source": [
    "R_j = 71492*1e3\n",
    "def construct_FNN(layers,activation=nn.ReLU,output_activation=None,Dropout = None):\n",
    "    layer = [j for i in layers for j in [nn.LazyLinear(i),activation()] ][:-1]\n",
    "    if Dropout:\n",
    "        layer.insert(len(layer)-2,nn.Dropout(Dropout))\n",
    "    if output_activation is not None:\n",
    "        layer.append(output_activation())\n",
    "    return nn.Sequential(*layer)"
   ]
  },
  {
   "cell_type": "code",
   "execution_count": 22,
   "id": "84d75295-4c96-4803-88cf-1a1fb25186ed",
   "metadata": {},
   "outputs": [],
   "source": [
    "class Parameter_ML(nn.Module):\n",
    "    def __init__(self,Dropout=0):\n",
    "        activation = nn.LeakyReLU\n",
    "        super(Parameter_ML, self).__init__()\n",
    "    \n",
    "        self.attention_layer = construct_FNN([64,64,52],activation=activation)\n",
    "        \n",
    "        self.aux_layer =  construct_FNN([64,64,64],activation=activation)\n",
    "        \n",
    "        \n",
    "        self.main_layer = construct_FNN([192,384,384,20],output_activation=nn.Sigmoid,Dropout=Dropout,activation=activation)\n",
    "        \n",
    "        # nn.Sequential( nn.LazyLinear( out_features = 192), activation(),\n",
    "        #                 nn.Linear(in_features=192, out_features = 384), activation(), nn.Linear(in_features=384, out_features = 384)\n",
    "        #                 ,nn.Dropout(Dropout),activation() ,nn.Linear(in_features=384, out_features = 20),nn.Sigmoid()) \n",
    "\n",
    "        self.noise_layer = construct_FNN([64,64,52],activation=activation)\n",
    "\n",
    "    def forward(self, input1, input2,input3): #input1:spectra, input2: auxxilary, input3:noise\n",
    "\n",
    "\n",
    "        a = input1*self.noise_layer(torch.cat((input3,input2,input1),axis=1 ) )\n",
    "        b=torch.cat( (a*self.attention_layer(a),self.aux_layer(input2) ) ,axis=1 )\n",
    "        return self.main_layer(b).reshape(a.shape[0],4,5) *torch.Tensor([1,11,11,-6])[None,:,None]-torch.Tensor([0,12,12,-6])[None,:,None]\n",
    "\n",
    "\n",
    "class Conv_ML(nn.Module):\n",
    "    def __init__(self,Dropout=0):\n",
    "        activation = nn.LeakyReLU\n",
    "        super(Conv_ML, self).__init__()\n",
    "\n",
    "        self.spec_layer =nn.Sequential(nn.Conv1d(2,16,kernel_size=3),activation(),\n",
    "                                      nn.Conv1d(16,16,kernel_size=3),activation(),nn.Conv1d(16,16,kernel_size=3),activation(),\n",
    "                                      nn.Conv1d(16,16,kernel_size=3),activation(),nn.Conv1d(16,16,kernel_size=3),nn.Flatten(),nn.Dropout(.1))\n",
    "        self.aux_layer = construct_FNN([64,64,64,64])\n",
    "        self.main_layer = construct_FNN([512,256,128,20],output_activation=nn.Sigmoid)\n",
    "        \n",
    "\n",
    "    def forward(self, input1, input2,input3): #input1:spectra, input2: auxxilary, input3:noise\n",
    "        spec_ = self.spec_layer(torch.stack([input1,input3],dim=1))\n",
    "        return self.main_layer(torch.cat([self.aux_layer(input2),spec_],axis=1)).reshape(input1.shape[0],4,5) *torch.Tensor([1,11,11,-6])[None,:,None]-torch.Tensor([0,12,12,-6])[None,:,None]\n",
    "\n"
   ]
  },
  {
   "cell_type": "code",
   "execution_count": 23,
   "id": "cdfbe747-82ba-486d-9865-cb0c9045a4fa",
   "metadata": {},
   "outputs": [],
   "source": [
    "def preprocessor(spec,aux,noise,ind=None,std_mn=None):\n",
    "\n",
    "    # Modifying outliers\n",
    "    for i in range(spec.shape[0]):\n",
    "        \n",
    "        spec[i,spec[i,:]>0.1] = (spec[i,spec[i,:]<0.1]/noise[i,spec[i,:]<0.1]).mean()*noise[i,spec[i,:]>0.1]\n",
    "    R_j = 71492*1e3\n",
    "\n",
    "    # Rpj = np.sqrt(aux[:,4]/aux[:,-1])*np.sqrt(6.6743*1e-11)/R_j\n",
    "    Rp = torch.sqrt(spec.min(axis=1).values)*aux[:,2]\n",
    "    Rpj =Rp.clone()/R_j\n",
    "    \n",
    "    \n",
    "    # x = (np.sqrt(aux[:,4]/aux[:,-1])*np.sqrt(6.6743*1e-11)).clone().detach().numpy()\n",
    "    # y = (torch.sqrt(spec.min(axis=1).values)*aux[:,2]).clone().detach().numpy()\n",
    "    # ind = np.logical_and((1-x/y)>.05,(1-x/y)<.10 )\n",
    "    # Rp = torch.from_numpy(np.where(ind,x,y))#y.clone()\n",
    "    # Rpj = torch.tensor(Rp/R_j)\n",
    "    \n",
    "    \n",
    "    # Calculate R_p/R_s for the next steps\n",
    "    temp = ((Rp/aux[:,2]))[:,None]\n",
    "    \n",
    "\n",
    "    # Calculating the effective temperature and the scale height\n",
    "    T = aux[:,3]*(1/2*aux[:,2]/(aux[:,6]*149597870.7*1000))**(1/2)\n",
    "    H = 1.380649* T / (2.29*1.66054e-4*aux[:,7])\n",
    "    \n",
    "    # Getting rid of the bulk planet contribution\n",
    "    \n",
    "    \n",
    "    spec = (spec - temp**2)\n",
    "    spec[spec<0] = 1e-4\n",
    "    # Concatenate three unitless features to the auxillary data\n",
    "    aux = torch.cat((aux,Rp[:,None],(Rp/aux[:,2])[:,None],\n",
    "                        (aux[:,6]/H)[:,None],spec.max(axis=1).values[:,None],aux[:,2][:,None]/H[:,None]  ),axis=1) # *\n",
    "\n",
    "    # Normalization of noise and spectra\n",
    "    noise = noise/spec.max(axis=1).values[:,None]\n",
    "    spec = spec/spec.max(axis=1).values[:,None]\n",
    "\n",
    "    # Calculate std and mean for the auxillary data if it is the training phase\n",
    "    if std_mn is None:\n",
    "        aux_std,aux_mn = aux[ind].std(axis=0),aux[ind].mean(axis=0)\n",
    "        std_mn = [aux_std,aux_mn]\n",
    "    \n",
    "    else:\n",
    "        aux_std,aux_mn = std_mn\n",
    "       \n",
    "    # Standardize the auxillary data\n",
    "    aux = standardize(aux,aux_mn,aux_std) \n",
    "    \n",
    "    return spec,aux,noise,Rpj,T,std_mn\n"
   ]
  },
  {
   "cell_type": "code",
   "execution_count": 24,
   "id": "cf8bdb75-02b1-4336-a1ac-10a43fa4609a",
   "metadata": {},
   "outputs": [],
   "source": [
    "spec_tr,aux_tr,noise_tr,Rp,T,std_mn = preprocessor(spec,aux,noise,ind=ind)\n",
    "aux_std,aux_mn = std_mn\n",
    "param_tr = torch.tensor(param).clone()\n",
    "\n",
    "param_mn,param_std = param_tr[ind,:,:].mean(axis=0),param_tr[ind,:,:].std(axis=0)"
   ]
  },
  {
   "cell_type": "code",
   "execution_count": 25,
   "id": "82c73332-70b8-45e5-9dd9-2845538f1438",
   "metadata": {},
   "outputs": [],
   "source": [
    "train_data = Combined_Quart_Dataset(spectra=spec_tr[ind],aux=aux_tr[ind],quart=param_tr[ind][:,:,:],noise=noise_tr[ind])\n",
    "train_loader = DataLoader(train_data, batch_size=64,\n",
    "                        shuffle=True, num_workers=0)\n",
    "\n",
    "if not(ind.all()):\n",
    "    test_data = Combined_Quart_Dataset(spectra=spec_tr[~ind],aux=aux_tr[~ind],quart=param_tr[~ind][:,:,:],noise=noise_tr[~ind])\n",
    "\n",
    "else:\n",
    "    test_data=train_data\n",
    "    \n",
    "test_loader = DataLoader(test_data, batch_size=len(test_data),\n",
    "                        shuffle=True, num_workers=0)\n"
   ]
  },
  {
   "cell_type": "code",
   "execution_count": 26,
   "id": "62ac6b66-3a9c-4356-aa1b-2945e737357a",
   "metadata": {},
   "outputs": [],
   "source": [
    "torch.manual_seed(0)\n",
    "model = Parameter_ML(Dropout=0)\n",
    "# model = Conv_ML()#(Dropout=.1)"
   ]
  },
  {
   "cell_type": "code",
   "execution_count": 27,
   "id": "00795dcb-5604-494d-8ccf-d67075672e9f",
   "metadata": {
    "tags": []
   },
   "outputs": [
    {
     "data": {
      "application/vnd.jupyter.widget-view+json": {
       "model_id": "32a26a0c5f2f4463b69df1ad7121535a",
       "version_major": 2,
       "version_minor": 0
      },
      "text/plain": [
       "  0%|          | 0/20 [00:00<?, ?it/s]"
      ]
     },
     "metadata": {},
     "output_type": "display_data"
    },
    {
     "data": {
      "application/vnd.jupyter.widget-view+json": {
       "model_id": "432aedd76f9845b09e27f0fa55c7fbae",
       "version_major": 2,
       "version_minor": 0
      },
      "text/plain": [
       "  0%|          | 0/25 [00:00<?, ?it/s]"
      ]
     },
     "metadata": {},
     "output_type": "display_data"
    },
    {
     "data": {
      "application/vnd.jupyter.widget-view+json": {
       "model_id": "665d3be30ceb45fba97fd9e635249f91",
       "version_major": 2,
       "version_minor": 0
      },
      "text/plain": [
       "  0%|          | 0/5 [00:00<?, ?it/s]"
      ]
     },
     "metadata": {},
     "output_type": "display_data"
    },
    {
     "name": "stdout",
     "output_type": "stream",
     "text": [
      "Time total: 92.88 sec, Best Val. Loss:0.3146660042275215\n"
     ]
    }
   ],
   "source": [
    "# Loss function is an approximation of the EMD\n",
    "\n",
    "# loss_fn = lambda y,yhat: (yhat[:,0]-y[:,0])**2+(1-y[:,0])**2*torch.abs(y[:,1]-yhat[:,1])**2+(\n",
    "#     y[:,0])**2* ((y[:,2]-yhat[:,2])**2+yhat[:,3]+y[:,3]-2*torch.sqrt(y[:,3]*yhat[:,3]))\n",
    "\n",
    "loss_fn = lambda y,yhat: (yhat[:,0]-y[:,0]).abs()*1.5+(1-y[:,0]).abs()*torch.abs(y[:,1]-yhat[:,1]).abs()+(\n",
    "    y[:,0])* ((y[:,2]-yhat[:,2])**2+ (torch.sqrt(y[:,3]+1e-7)-torch.sqrt(yhat[:,3]+1e-7) )**2 ).sqrt()\n",
    "\n",
    "\n",
    "epochs=np.array([20,15,5])\n",
    "\n",
    "lrs=np.array([5e-4,2.5e-4,1e-4])\n",
    "epochs=np.array([20,25,5])\n",
    "# lrs=np.array([5e-3,2.5e-3,1e-3])\n",
    "params={'model':model ,\n",
    "      'loss_fn':loss_fn,\n",
    "      'train_dl':train_loader,\n",
    "      'val_dl':test_loader,\n",
    "      'device':'cpu', 'optimizer':torch.optim.Adam(model.parameters(),5e-4),'lrs':lrs,'epochs':epochs}\n",
    "\n",
    "a=train(**params)"
   ]
  },
  {
   "cell_type": "code",
   "execution_count": 28,
   "id": "88bc1acb-c328-4aea-a2fe-96450fdc848e",
   "metadata": {},
   "outputs": [
    {
     "data": {
      "text/plain": [
       "<matplotlib.legend.Legend at 0x7f63e99470a0>"
      ]
     },
     "execution_count": 28,
     "metadata": {},
     "output_type": "execute_result"
    },
    {
     "data": {
      "image/png": "[encoded data removed]",
      "text/plain": [
       "<Figure size 640x480 with 1 Axes>"
      ]
     },
     "metadata": {},
     "output_type": "display_data"
    }
   ],
   "source": [
    "model.eval()\n",
    "# model.load_state_dict(a['state'])\n",
    "with torch.no_grad():params_test = model(spec_tr,aux_tr,noise_tr).numpy()\n",
    "plt.plot(a['history']['val_loss'][20:],label='val_loss')\n",
    "plt.plot(a['history']['loss'][20:],label='tr')\n",
    "plt.legend()"
   ]
  },
  {
   "cell_type": "markdown",
   "id": "5ccd0456-7452-4b01-8da4-1a0fb02619de",
   "metadata": {
    "tags": []
   },
   "source": [
    "# Calculates a part of the score "
   ]
  },
  {
   "cell_type": "code",
   "execution_count": 23,
   "id": "a9a6ea13-9174-4677-94d2-3f1c417d3c45",
   "metadata": {},
   "outputs": [],
   "source": [
    "# ind[:]=True\n",
    "torch.manual_seed(0)\n",
    "ind_score = ind.clone()\n",
    "if ind.all():\n",
    "    torch.manual_seed(0)\n",
    "    ind_score[torch.rand(safe.sum())>.0.84625788 0.26208]=False \n",
    "t2,w2 = to_matrix('../TrainingData/Ground Truth Package/Tracedata.hdf5',torch.where(safe)[0][torch.where(~ind_score)[0]])"
   ]
  },
  {
   "cell_type": "code",
   "execution_count": 24,
   "id": "ff2790c1-e4f9-4e50-9a99-41df68392092",
   "metadata": {},
   "outputs": [
    {
     "data": {
      "text/plain": [
       "tensor(6766)"
      ]
     },
     "execution_count": 24,
     "metadata": {},
     "output_type": "execute_result"
    }
   ],
   "source": [
    "ind.sum()"
   ]
  },
  {
   "cell_type": "code",
   "execution_count": 26,
   "id": "5d0a0356-7658-456f-9299-1ae0d00bf699",
   "metadata": {},
   "outputs": [],
   "source": [
    "# spec_test,aux_test,noise_test,Rp,T,std_mn =  preprocessor(spec,aux,noise,std_mn=std_mn)\n",
    "# model.eval()\n",
    "# with torch.no_grad():params_test = model(spec_test,aux_test,noise_test).detach().numpy()\n",
    "params_test = torch.rand(spec.shape[0],4,5).detach().numpy()\n",
    "spec_test,aux_test,noise_test,Rp,T,std_mn_RpT =  preprocessor_RpT(spec,aux,noise,std_mn=std_mn_RpT)\n",
    "model_RpT.eval()\n",
    "with torch.no_grad():RpThat = model_RpT(spec_test,aux_test,noise_test).detach()\n"
   ]
  },
  {
   "cell_type": "code",
   "execution_count": 27,
   "id": "99bff941-af88-45b4-a0b0-1b1c6967ead0",
   "metadata": {},
   "outputs": [],
   "source": [
    "real = torch.stack([quart_tr[:,1,:2],(quart_tr[:,2,:2]-quart_tr[:,0,:2])/2],dim=1).mT"
   ]
  },
  {
   "cell_type": "code",
   "execution_count": 28,
   "id": "c14cb833-0fc2-4fc6-addd-efe5ec8e2716",
   "metadata": {},
   "outputs": [
    {
     "data": {
      "application/vnd.jupyter.widget-view+json": {
       "model_id": "39e79744a5a34bdca6cd500bef8e2ae9",
       "version_major": 2,
       "version_minor": 0
      },
      "text/plain": [
       "  0%|          | 0/1351 [00:00<?, ?it/s]"
      ]
     },
     "metadata": {},
     "output_type": "display_data"
    },
    {
     "data": {
      "application/vnd.jupyter.widget-view+json": {
       "model_id": "351a0743db69458487f49b4d0643ea2d",
       "version_major": 2,
       "version_minor": 0
      },
      "text/plain": [
       "  0%|          | 0/1351 [00:00<?, ?it/s]"
      ]
     },
     "metadata": {},
     "output_type": "display_data"
    },
    {
     "name": "stdout",
     "output_type": "stream",
     "text": [
      "[0.00248734 0.84625788 0.26200947 0.25489697 0.33133264 0.24804249\n",
      " 0.2509926 ]\n",
      "0.31371705614888445\n"
     ]
    }
   ],
   "source": [
    "\n",
    "q_Rp  = RpThat[:,[0,2]]\n",
    "\n",
    "q_T   = RpThat[:,[1,3]]\n",
    "\n",
    "q_RpT = torch.stack([q_Rp,q_T],-1).swapaxes(1,2)\n",
    "\n",
    "\n",
    "W,y_dist = sample_fast(params_test[~ind_score],q_RpT[~ind_score])\n",
    "\n",
    "np.int = int\n",
    "w = np.zeros((len(W),7))\n",
    "for i in tqdm(range(len(W))):\n",
    "    w[i] = compute_posterior_loss(y_dist[i].T, W[i], t2[i], w2[i], bounds_matrix=None)\n",
    "print(w.mean(axis=0))\n",
    "print(w.mean())"
   ]
  },
  {
   "cell_type": "code",
   "execution_count": 30,
   "id": "87f99ab7-60e8-4193-b083-479bb9b814aa",
   "metadata": {},
   "outputs": [],
   "source": [
    "data = torch.load('tr_data.pt')\n",
    "quart_tr = torch.Tensor(data['Quart_tr'])\n",
    "safe = ~torch.isnan(quart_tr[:,0,0])\n",
    "\n",
    "spec = torch.Tensor(data['Spectra'])\n",
    "noise = torch.Tensor(data['Noise'])\n",
    "aux = torch.Tensor(data['Aux'])\n",
    "fm = torch.Tensor(data['FM'])\n",
    "param = torch.load('params_fixed.pt')\n",
    "param_RpT = torch.load('params_RpT.pt')\n",
    "\n",
    "spec_test,aux_test,noise_test,Rp,T,std_mn_RpT =  preprocessor_RpT(spec,aux,noise,std_mn=std_mn_RpT)\n",
    "\n",
    "model_RpT.eval()\n",
    "with torch.no_grad():param_RpT = model_RpT(spec_test,aux_test,noise_test).detach()#[:,[1,3]]\n",
    "\n",
    "\n",
    "torch.save(param_RpT[~safe],'semi_That')\n",
    "# q_RpT[:,2]=q_RpT[:,0]*.1\n",
    "# q_RpT[:,-1][q_RpT[:,-1]<-1]=-1\n",
    "\n",
    "# cov = convert_cov(q_RpT)"
   ]
  }
 ],
 "metadata": {
  "kernelspec": {
   "display_name": "Python 3 (ipykernel)",
   "language": "python",
   "name": "python3"
  },
  "language_info": {
   "codemirror_mode": {
    "name": "ipython",
    "version": 3
   },
   "file_extension": ".py",
   "mimetype": "text/x-python",
   "name": "python",
   "nbconvert_exporter": "python",
   "pygments_lexer": "ipython3",
   "version": "3.9.13"
  }
 },
 "nbformat": 4,
 "nbformat_minor": 5
}
